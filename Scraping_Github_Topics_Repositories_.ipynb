{
  "nbformat": 4,
  "nbformat_minor": 0,
  "metadata": {
    "colab": {
      "provenance": []
    },
    "kernelspec": {
      "name": "python3",
      "display_name": "Python 3"
    },
    "language_info": {
      "name": "python"
    }
  },
  "cells": [
    {
      "cell_type": "markdown",
      "source": [
        "# Scraping the top repositories for the topics on the Github Page"
      ],
      "metadata": {
        "id": "sSzf5TWtlS2A"
      }
    },
    {
      "cell_type": "markdown",
      "source": [
        "Tarun Rama M"
      ],
      "metadata": {
        "id": "hQv2pdYCApE2"
      }
    },
    {
      "cell_type": "markdown",
      "source": [
        "1. What is Web Scraping in short terms?\n",
        "\n",
        "Web scraping is the automated process of extracting information from websites. It involves fetching the data displayed on a website and converting it into a structured format (e.g.,a CSV, spreadsheet, database, or JSON) for further analysis or use."
      ],
      "metadata": {
        "id": "Stsg_KoAlZYm"
      }
    },
    {
      "cell_type": "markdown",
      "source": [
        "2. Introduction to GitHub\n",
        "\n",
        "GitHub https://github.com/ is a platform for developers and teams to host, manage, and collaborate on projects using Git, a version control system. It provides tools to work on code collaboratively, track changes, and integrate seamlessly with other development workflows."
      ],
      "metadata": {
        "id": "XD4NzK9emEUf"
      }
    },
    {
      "cell_type": "markdown",
      "source": [
        "3. Problem Statement\n",
        "\n",
        "We are going to use the topics page i.e https://github.com/topics, and from that page we are going find the list of topics for each repository and download it.\n"
      ],
      "metadata": {
        "id": "ZcfTPaZ6mcQ3"
      }
    },
    {
      "cell_type": "markdown",
      "source": [
        "4. Tools used in this project\n",
        "\n",
        "- requests : a Python library is used for making HTTP requests to a specified URL. HTTP request returns a response object with all the response data.\n",
        "\n",
        "- Beautiful Soup : a Python library used for web scraping purposes to extract data from HTML and XML documents. It provides tools for navigating, searching, and modifying the parse tree of these documents in a simple and readable way.\n",
        "\n",
        "- Pandas : is widely used in web scraping workflows to structure, clean, and analyze the data extracted from websites. After using tools like Beautiful Soup, or requests to scrape data, Pandas helps process the data into meaningful formats like tables or spreadsheets."
      ],
      "metadata": {
        "id": "UXBSJNLgnCUH"
      }
    },
    {
      "cell_type": "markdown",
      "source": [
        "Steps that will be followed -"
      ],
      "metadata": {
        "id": "BMPZMQOqorSH"
      }
    },
    {
      "cell_type": "markdown",
      "source": [
        "- We're going to scrape https://github.com/topics\n",
        "\n",
        "- We'll get a list of topics. For each topic, we'll get topic title, topic page URL and topic description\n",
        "- For each topic, we'll get the top 25 repositories in the topic from the topic page\n",
        "- For each repository, we'll grab the repo name, username, stars and repo URL\n",
        "- For each topic we'll crete a CSV file in the following format.\n"
      ],
      "metadata": {
        "id": "Z-V1kICjovEG"
      }
    },
    {
      "cell_type": "markdown",
      "source": [
        "## Scrape the list of topics from GitHub\n",
        "\n",
        "- use requests to download the page\n",
        "- use BeautifulSoup to parse and extract information\n",
        "- convert it into a panda data frame"
      ],
      "metadata": {
        "id": "e07JVaL7pBBe"
      }
    },
    {
      "cell_type": "code",
      "source": [
        "import os\n",
        "import requests\n",
        "from bs4 import BeautifulSoup\n",
        "import pandas as pd"
      ],
      "metadata": {
        "id": "8xxRDrSTpbVf"
      },
      "execution_count": 105,
      "outputs": []
    },
    {
      "cell_type": "markdown",
      "source": [
        "- function to download the page and extract the information"
      ],
      "metadata": {
        "id": "komp-s3vppK-"
      }
    },
    {
      "cell_type": "code",
      "execution_count": 106,
      "metadata": {
        "id": "ztSiXxfYj9Q5"
      },
      "outputs": [],
      "source": [
        "def get_topics_page():\n",
        "  topics_url = 'https://github.com/topics'\n",
        "  response = requests.get(topics_url)\n",
        "  if response.status_code != 200:\n",
        "    raise Exception('Failed to load Page {}'.format(topics_url))\n",
        "  doc = BeautifulSoup(response.text,'html.parser')\n",
        "  return doc"
      ]
    },
    {
      "cell_type": "code",
      "source": [
        "doc = get_topics_page()"
      ],
      "metadata": {
        "id": "OKJXD96ppjek"
      },
      "execution_count": 107,
      "outputs": []
    },
    {
      "cell_type": "code",
      "source": [
        "type(doc)"
      ],
      "metadata": {
        "colab": {
          "base_uri": "https://localhost:8080/",
          "height": 186
        },
        "id": "gEkU4sf1qQxh",
        "outputId": "089440b8-d990-475d-fef4-099eade11ac6"
      },
      "execution_count": 108,
      "outputs": [
        {
          "output_type": "execute_result",
          "data": {
            "text/plain": [
              "bs4.BeautifulSoup"
            ],
            "text/html": [
              "<div style=\"max-width:800px; border: 1px solid var(--colab-border-color);\"><style>\n",
              "      pre.function-repr-contents {\n",
              "        overflow-x: auto;\n",
              "        padding: 8px 12px;\n",
              "        max-height: 500px;\n",
              "      }\n",
              "\n",
              "      pre.function-repr-contents.function-repr-contents-collapsed {\n",
              "        cursor: pointer;\n",
              "        max-height: 100px;\n",
              "      }\n",
              "    </style>\n",
              "    <pre style=\"white-space: initial; background:\n",
              "         var(--colab-secondary-surface-color); padding: 8px 12px;\n",
              "         border-bottom: 1px solid var(--colab-border-color);\"><b>bs4.BeautifulSoup</b><br/>def __call__(*args, **kwargs)</pre><pre class=\"function-repr-contents function-repr-contents-collapsed\" style=\"\"><a class=\"filepath\" style=\"display:none\" href=\"#\">/usr/local/lib/python3.10/dist-packages/bs4/__init__.py</a>A data structure representing a parsed HTML or XML document.\n",
              "\n",
              "Most of the methods you&#x27;ll call on a BeautifulSoup object are inherited from\n",
              "PageElement or Tag.\n",
              "\n",
              "Internally, this class defines the basic interface called by the\n",
              "tree builders when converting an HTML/XML document into a data\n",
              "structure. The interface abstracts away the differences between\n",
              "parsers. To write a new tree builder, you&#x27;ll need to understand\n",
              "these methods as a whole.\n",
              "\n",
              "These methods will be called by the BeautifulSoup constructor:\n",
              "  * reset()\n",
              "  * feed(markup)\n",
              "\n",
              "The tree builder may call these methods from its feed() implementation:\n",
              "  * handle_starttag(name, attrs) # See note about return value\n",
              "  * handle_endtag(name)\n",
              "  * handle_data(data) # Appends to the current data node\n",
              "  * endData(containerClass) # Ends the current data node\n",
              "\n",
              "No matter how complicated the underlying parser is, you should be\n",
              "able to build a tree using &#x27;start tag&#x27; events, &#x27;end tag&#x27; events,\n",
              "&#x27;data&#x27; events, and &quot;done with data&quot; events.\n",
              "\n",
              "If you encounter an empty-element tag (aka a self-closing tag,\n",
              "like HTML&#x27;s &lt;br&gt; tag), call handle_starttag and then\n",
              "handle_endtag.</pre>\n",
              "      <script>\n",
              "      if (google.colab.kernel.accessAllowed && google.colab.files && google.colab.files.view) {\n",
              "        for (const element of document.querySelectorAll('.filepath')) {\n",
              "          element.style.display = 'block'\n",
              "          element.onclick = (event) => {\n",
              "            event.preventDefault();\n",
              "            event.stopPropagation();\n",
              "            google.colab.files.view(element.textContent, 76);\n",
              "          };\n",
              "        }\n",
              "      }\n",
              "      for (const element of document.querySelectorAll('.function-repr-contents')) {\n",
              "        element.onclick = (event) => {\n",
              "          event.preventDefault();\n",
              "          event.stopPropagation();\n",
              "          element.classList.toggle('function-repr-contents-collapsed');\n",
              "        };\n",
              "      }\n",
              "      </script>\n",
              "      </div>"
            ]
          },
          "metadata": {},
          "execution_count": 108
        }
      ]
    },
    {
      "cell_type": "markdown",
      "source": [
        "#### Creating Helper functions to parse information from the page."
      ],
      "metadata": {
        "id": "88TVgjS2qjYu"
      }
    },
    {
      "cell_type": "markdown",
      "source": [
        "- func `get_topic_titles` is used to retrieve the list of titles\n",
        "- To get Topic_titles, we can pick `p` tags with the class `f3 lh-condensed mb-0 mt-1 Link--primary`"
      ],
      "metadata": {
        "id": "2xpJjV-gq6Qm"
      }
    },
    {
      "cell_type": "code",
      "source": [
        "def get_topic_titles(doc):\n",
        "  selection_class = 'f3 lh-condensed mb-0 mt-1 Link--primary'\n",
        "  topic_title_tags = doc.find_all('p', {'class': selection_class})\n",
        "  topic_titles = []\n",
        "  for tag in topic_title_tags:\n",
        "    topic_titles.append(tag.text)\n",
        "  return topic_titles"
      ],
      "metadata": {
        "id": "txPTSw9tqRPU"
      },
      "execution_count": 109,
      "outputs": []
    },
    {
      "cell_type": "code",
      "source": [
        "titles = get_topic_titles(doc)"
      ],
      "metadata": {
        "id": "ZbAFLdyArbz_"
      },
      "execution_count": 110,
      "outputs": []
    },
    {
      "cell_type": "code",
      "source": [
        "len(titles)"
      ],
      "metadata": {
        "colab": {
          "base_uri": "https://localhost:8080/"
        },
        "id": "IKUkrwGrrfJm",
        "outputId": "d4c2988a-a48e-4235-e9cd-91bbc9424d3f"
      },
      "execution_count": 111,
      "outputs": [
        {
          "output_type": "execute_result",
          "data": {
            "text/plain": [
              "30"
            ]
          },
          "metadata": {},
          "execution_count": 111
        }
      ]
    },
    {
      "cell_type": "code",
      "source": [
        "titles[:5]"
      ],
      "metadata": {
        "colab": {
          "base_uri": "https://localhost:8080/"
        },
        "id": "PrUdkl7xrhFP",
        "outputId": "1c3639e5-54ef-40d9-a787-6ea872d85049"
      },
      "execution_count": 112,
      "outputs": [
        {
          "output_type": "execute_result",
          "data": {
            "text/plain": [
              "['3D', 'Ajax', 'Algorithm', 'Amp', 'Android']"
            ]
          },
          "metadata": {},
          "execution_count": 112
        }
      ]
    },
    {
      "cell_type": "markdown",
      "source": [
        "func `get_topic_descriptions` is used to get the list of descriptions\n",
        "- To get topic_descriptions, we can pick `p` tags with the class `f5 color-fg-muted mb-0 mt-1`"
      ],
      "metadata": {
        "id": "vhxD835styHn"
      }
    },
    {
      "cell_type": "code",
      "source": [
        "def get_topic_descriptions(doc):\n",
        "  selection_class_two = 'f5 color-fg-muted mb-0 mt-1'\n",
        "  topic_description_tags = doc.find_all('p',{'class': selection_class_two})\n",
        "  topic_descriptions = []\n",
        "  for tag in topic_description_tags:\n",
        "    topic_descriptions.append(tag.text.strip())\n",
        "  return topic_descriptions"
      ],
      "metadata": {
        "id": "xL7Iy3x4qtgR"
      },
      "execution_count": 113,
      "outputs": []
    },
    {
      "cell_type": "markdown",
      "source": [
        "func `get_topic_urls` is used to get the list of descriptions\n",
        "- To get topic_descriptions, we can pick `a` tags with the class `no-underline flex-1 d-flex flex-column`"
      ],
      "metadata": {
        "id": "P928YHcQuux_"
      }
    },
    {
      "cell_type": "code",
      "source": [
        "def get_topic_urls(doc):\n",
        "  selection_class_three = 'no-underline flex-1 d-flex flex-column'\n",
        "  topic_link_tags = doc.find_all('a',{'class':selection_class_three})\n",
        "  topic_urls = []\n",
        "  base_url = 'https://github.com'\n",
        "  for tag in topic_link_tags:\n",
        "    topic_urls.append(base_url + tag['href'])\n",
        "  return topic_urls"
      ],
      "metadata": {
        "id": "BNI41yXlqzpu"
      },
      "execution_count": 114,
      "outputs": []
    },
    {
      "cell_type": "markdown",
      "source": [
        "- Let's put this all together into a single function"
      ],
      "metadata": {
        "id": "WnMVBVpHu-ym"
      }
    },
    {
      "cell_type": "code",
      "source": [
        "def scrape_topics():\n",
        "\n",
        "  topics_url = 'https://github.com/topics'\n",
        "  response = requests.get(topics_url)\n",
        "  if response.status_code != 200:\n",
        "    raise Exception('Failed to load Page {}'.format(topics_url))\n",
        "  doc = BeautifulSoup(response.text,'html.parser')\n",
        "  topics_dict = {\n",
        "      'title':get_topic_titles(doc),\n",
        "      'description':get_topic_descriptions(doc),\n",
        "      'url': get_topic_urls(doc)\n",
        "  }\n",
        "  return pd.DataFrame(topics_dict)"
      ],
      "metadata": {
        "id": "1y0pXTFzqzny"
      },
      "execution_count": 115,
      "outputs": []
    },
    {
      "cell_type": "markdown",
      "source": [
        "# Get the Top Repositories from a topic page"
      ],
      "metadata": {
        "id": "6B0H7PwZvNPu"
      }
    },
    {
      "cell_type": "code",
      "source": [
        "def get_topic_page(topic_url):\n",
        "    # Download the page\n",
        "    response = requests.get(topic_url)\n",
        "    # Check if successfull or not\n",
        "    if response.status_code != 200:\n",
        "        raise Exception('Failed to load the page! {}'.format(topic_url))\n",
        "    # parse using beautifulSoup\n",
        "    topic_doc = BeautifulSoup(response.text,'html.parser')\n",
        "    return topic_doc"
      ],
      "metadata": {
        "id": "6RBYCU5sqzlW"
      },
      "execution_count": 116,
      "outputs": []
    },
    {
      "cell_type": "code",
      "source": [
        "doc = get_topic_page('https://github.com/topics/3d')"
      ],
      "metadata": {
        "id": "obGJjZq-qzi6"
      },
      "execution_count": 117,
      "outputs": []
    },
    {
      "cell_type": "code",
      "source": [
        "def get_repo_info(h3_tag,star_tag):\n",
        "  # returns all the required info about a repository\n",
        "  base_url = 'https://github.com'\n",
        "\n",
        "  a_tags = h3_tag.find_all('a')\n",
        "  username = a_tags[0].text.strip()\n",
        "  repo_name = a_tags[1].text.strip()\n",
        "  repo_url = base_url + a_tags[1]['href']\n",
        "  stars = parse_star_count(star_tag.text.strip())\n",
        "  return username, repo_name, stars, repo_url"
      ],
      "metadata": {
        "id": "rTtMUn4yqzeW"
      },
      "execution_count": 118,
      "outputs": []
    },
    {
      "cell_type": "code",
      "source": [
        "# get_repo_info(repo_tags[0],star_tags[0])"
      ],
      "metadata": {
        "id": "p9YHciuEwJje"
      },
      "execution_count": 119,
      "outputs": []
    },
    {
      "cell_type": "code",
      "source": [
        "def get_topic_repos(topic_doc):\n",
        "    # Get the h3 tags containing repo title, repo_name and repo_url and username\n",
        "    selection_class_four = 'f3 color-fg-muted text-normal lh-condensed'\n",
        "    repo_tags = topic_doc.find_all('h3', {'class': selection_class_four})\n",
        "    # get the star tags\n",
        "    star_tags = topic_doc.find_all('span',{'class':'Counter js-social-count'})\n",
        "\n",
        "    topic_repos_dict = {\n",
        "      'username': [],\n",
        "      'repo_name': [],\n",
        "      'stars':[],\n",
        "      'repo_url':[]\n",
        "    }\n",
        "\n",
        "    # Get repo info\n",
        "    for i in range(len(repo_tags)):\n",
        "      repo_info = get_repo_info(repo_tags[i],star_tags[i])\n",
        "      topic_repos_dict['username'].append(repo_info[0])\n",
        "      topic_repos_dict['repo_name'].append(repo_info[1])\n",
        "      topic_repos_dict['stars'].append(repo_info[2])\n",
        "      topic_repos_dict['repo_url'].append(repo_info[3])\n",
        "    return pd.DataFrame(topic_repos_dict)"
      ],
      "metadata": {
        "id": "MwL6Bb-bqzUH"
      },
      "execution_count": 120,
      "outputs": []
    },
    {
      "cell_type": "code",
      "source": [],
      "metadata": {
        "id": "0uFvxhtdwIje"
      },
      "execution_count": 120,
      "outputs": []
    },
    {
      "cell_type": "code",
      "source": [
        "def scrape_topic(topic_url,path):\n",
        "\n",
        "  if os.path.exists(path):\n",
        "    print(\"The file {} already exists. Skipping...\".format(path))\n",
        "    return\n",
        "  topic_df = get_topic_repos(get_topic_page(topic_url))\n",
        "  topic_df.to_csv(path, index=None)"
      ],
      "metadata": {
        "id": "iuVEXfUZwIQG"
      },
      "execution_count": 121,
      "outputs": []
    },
    {
      "cell_type": "code",
      "source": [],
      "metadata": {
        "id": "zDPlYj5-wc6H"
      },
      "execution_count": 121,
      "outputs": []
    },
    {
      "cell_type": "code",
      "source": [
        "def parse_star_count(stars_str):\n",
        "  stars_str = stars_str.strip()\n",
        "  if stars_str[-1] == 'k':\n",
        "    return int(float(stars_str[:-1]) * 1000)\n",
        "  return int(stars_str)"
      ],
      "metadata": {
        "id": "qS_DARaCxtMu"
      },
      "execution_count": 122,
      "outputs": []
    },
    {
      "cell_type": "code",
      "source": [
        "print(parse_star_count(\"29.1k\"))  # testing func"
      ],
      "metadata": {
        "colab": {
          "base_uri": "https://localhost:8080/"
        },
        "id": "TbwPCOM88Hqo",
        "outputId": "522dad26-57f9-4a5a-cda3-6ecd18cabd2e"
      },
      "execution_count": 123,
      "outputs": [
        {
          "output_type": "stream",
          "name": "stdout",
          "text": [
            "29100\n"
          ]
        }
      ]
    },
    {
      "cell_type": "markdown",
      "source": [
        "## Putting it all together\n",
        "\n",
        "- We have a function to get the list fo topics\n",
        "- We have a function to create a CSV file for scraped repos from a topics page\n",
        "- Let's create a function to put them together"
      ],
      "metadata": {
        "id": "dkqMX2s2wjUW"
      }
    },
    {
      "cell_type": "code",
      "source": [
        "def scrape_topics_repos():\n",
        "  print(\"Scarping list of topics\")\n",
        "  topics_df = scrape_topics()\n",
        "  os.makedirs('data',exist_ok=True)\n",
        "  for index,row in topics_df.iterrows():\n",
        "    print('Scraping top repositories for \"{}\"'.format(row['title']))\n",
        "    scrape_topic(row['url'],'data/{}.csv'.format(row['title']))"
      ],
      "metadata": {
        "id": "ULbPkuxewcxA"
      },
      "execution_count": 124,
      "outputs": []
    },
    {
      "cell_type": "markdown",
      "source": [
        "Run it to Scrape the Top Repositories for all the topics on the first page of https://github.com/topics"
      ],
      "metadata": {
        "id": "hzeDD4sFxASW"
      }
    },
    {
      "cell_type": "code",
      "source": [
        "scrape_topics_repos()"
      ],
      "metadata": {
        "colab": {
          "base_uri": "https://localhost:8080/"
        },
        "id": "I30P593WxIRA",
        "outputId": "5e03dcf8-60ce-4d59-dce6-1f748df6d4c1"
      },
      "execution_count": 125,
      "outputs": [
        {
          "output_type": "stream",
          "name": "stdout",
          "text": [
            "Scarping list of topics\n",
            "Scraping top repositories for \"3D\"\n",
            "Scraping top repositories for \"Ajax\"\n",
            "Scraping top repositories for \"Algorithm\"\n",
            "Scraping top repositories for \"Amp\"\n",
            "Scraping top repositories for \"Android\"\n",
            "Scraping top repositories for \"Angular\"\n",
            "Scraping top repositories for \"Ansible\"\n",
            "Scraping top repositories for \"API\"\n",
            "Scraping top repositories for \"Arduino\"\n",
            "Scraping top repositories for \"ASP.NET\"\n",
            "Scraping top repositories for \"Awesome Lists\"\n",
            "Scraping top repositories for \"Amazon Web Services\"\n",
            "Scraping top repositories for \"Azure\"\n",
            "Scraping top repositories for \"Babel\"\n",
            "Scraping top repositories for \"Bash\"\n",
            "Scraping top repositories for \"Bitcoin\"\n",
            "The file data/Bitcoin.csv already exists. Skipping...\n",
            "Scraping top repositories for \"Bootstrap\"\n",
            "Scraping top repositories for \"Bot\"\n",
            "Scraping top repositories for \"C\"\n",
            "Scraping top repositories for \"Chrome\"\n",
            "Scraping top repositories for \"Chrome extension\"\n",
            "Scraping top repositories for \"Command-line interface\"\n",
            "Scraping top repositories for \"Clojure\"\n",
            "Scraping top repositories for \"Code quality\"\n",
            "The file data/Code quality.csv already exists. Skipping...\n",
            "Scraping top repositories for \"Code review\"\n",
            "Scraping top repositories for \"Compiler\"\n",
            "Scraping top repositories for \"Continuous integration\"\n",
            "The file data/Continuous integration.csv already exists. Skipping...\n",
            "Scraping top repositories for \"C++\"\n",
            "Scraping top repositories for \"Cryptocurrency\"\n",
            "The file data/Cryptocurrency.csv already exists. Skipping...\n",
            "Scraping top repositories for \"Crystal\"\n"
          ]
        }
      ]
    },
    {
      "cell_type": "markdown",
      "source": [
        "Check that the CSV's were created properly"
      ],
      "metadata": {
        "id": "AFM3c7NZxX82"
      }
    },
    {
      "cell_type": "code",
      "source": [
        "# Read & display the CSV file using pandas"
      ],
      "metadata": {
        "id": "t6Nc2q_7xMsQ"
      },
      "execution_count": 126,
      "outputs": []
    },
    {
      "cell_type": "code",
      "source": [
        "pd.read_csv('data/Android.csv')"
      ],
      "metadata": {
        "colab": {
          "base_uri": "https://localhost:8080/",
          "height": 676
        },
        "id": "Om2IGRSexgUe",
        "outputId": "7d9d55f5-46ac-4ec9-ba7f-b84b407ecbb4"
      },
      "execution_count": 127,
      "outputs": [
        {
          "output_type": "execute_result",
          "data": {
            "text/plain": [
              "            username                     repo_name   stars  \\\n",
              "0            flutter                       flutter  167000   \n",
              "1           facebook                  react-native  120000   \n",
              "2         Genymobile                        scrcpy  115000   \n",
              "3          justjavac  free-programming-books-zh_CN  112000   \n",
              "4   Hack-with-Github               Awesome-Hacking   87200   \n",
              "5             Solido               awesome-flutter   54200   \n",
              "6         tldr-pages                          tldr   52400   \n",
              "7           wasabeef            awesome-android-ui   51100   \n",
              "8             google         material-design-icons   50900   \n",
              "9          laurent22                        joplin   46800   \n",
              "10          appwrite                      appwrite   46200   \n",
              "11            square                        okhttp   46000   \n",
              "12           android          architecture-samples   44600   \n",
              "13            square                      retrofit   43200   \n",
              "14            skylot                          jadx   42300   \n",
              "15          dcloudio                       uni-app   40300   \n",
              "16          fastlane                      fastlane   39800   \n",
              "17           PhilJay                MPAndroidChart   37700   \n",
              "18            termux                    termux-app   37700   \n",
              "19             2dust                       v2rayNG   37400   \n",
              "\n",
              "                                             repo_url  \n",
              "0                  https://github.com/flutter/flutter  \n",
              "1            https://github.com/facebook/react-native  \n",
              "2                https://github.com/Genymobile/scrcpy  \n",
              "3   https://github.com/justjavac/free-programming-...  \n",
              "4   https://github.com/Hack-with-Github/Awesome-Ha...  \n",
              "5           https://github.com/Solido/awesome-flutter  \n",
              "6                  https://github.com/tldr-pages/tldr  \n",
              "7      https://github.com/wasabeef/awesome-android-ui  \n",
              "8     https://github.com/google/material-design-icons  \n",
              "9                 https://github.com/laurent22/joplin  \n",
              "10               https://github.com/appwrite/appwrite  \n",
              "11                   https://github.com/square/okhttp  \n",
              "12    https://github.com/android/architecture-samples  \n",
              "13                 https://github.com/square/retrofit  \n",
              "14                     https://github.com/skylot/jadx  \n",
              "15                https://github.com/dcloudio/uni-app  \n",
              "16               https://github.com/fastlane/fastlane  \n",
              "17          https://github.com/PhilJay/MPAndroidChart  \n",
              "18               https://github.com/termux/termux-app  \n",
              "19                   https://github.com/2dust/v2rayNG  "
            ],
            "text/html": [
              "\n",
              "  <div id=\"df-978e88ff-2ad4-4a99-bd02-aed342c23a60\" class=\"colab-df-container\">\n",
              "    <div>\n",
              "<style scoped>\n",
              "    .dataframe tbody tr th:only-of-type {\n",
              "        vertical-align: middle;\n",
              "    }\n",
              "\n",
              "    .dataframe tbody tr th {\n",
              "        vertical-align: top;\n",
              "    }\n",
              "\n",
              "    .dataframe thead th {\n",
              "        text-align: right;\n",
              "    }\n",
              "</style>\n",
              "<table border=\"1\" class=\"dataframe\">\n",
              "  <thead>\n",
              "    <tr style=\"text-align: right;\">\n",
              "      <th></th>\n",
              "      <th>username</th>\n",
              "      <th>repo_name</th>\n",
              "      <th>stars</th>\n",
              "      <th>repo_url</th>\n",
              "    </tr>\n",
              "  </thead>\n",
              "  <tbody>\n",
              "    <tr>\n",
              "      <th>0</th>\n",
              "      <td>flutter</td>\n",
              "      <td>flutter</td>\n",
              "      <td>167000</td>\n",
              "      <td>https://github.com/flutter/flutter</td>\n",
              "    </tr>\n",
              "    <tr>\n",
              "      <th>1</th>\n",
              "      <td>facebook</td>\n",
              "      <td>react-native</td>\n",
              "      <td>120000</td>\n",
              "      <td>https://github.com/facebook/react-native</td>\n",
              "    </tr>\n",
              "    <tr>\n",
              "      <th>2</th>\n",
              "      <td>Genymobile</td>\n",
              "      <td>scrcpy</td>\n",
              "      <td>115000</td>\n",
              "      <td>https://github.com/Genymobile/scrcpy</td>\n",
              "    </tr>\n",
              "    <tr>\n",
              "      <th>3</th>\n",
              "      <td>justjavac</td>\n",
              "      <td>free-programming-books-zh_CN</td>\n",
              "      <td>112000</td>\n",
              "      <td>https://github.com/justjavac/free-programming-...</td>\n",
              "    </tr>\n",
              "    <tr>\n",
              "      <th>4</th>\n",
              "      <td>Hack-with-Github</td>\n",
              "      <td>Awesome-Hacking</td>\n",
              "      <td>87200</td>\n",
              "      <td>https://github.com/Hack-with-Github/Awesome-Ha...</td>\n",
              "    </tr>\n",
              "    <tr>\n",
              "      <th>5</th>\n",
              "      <td>Solido</td>\n",
              "      <td>awesome-flutter</td>\n",
              "      <td>54200</td>\n",
              "      <td>https://github.com/Solido/awesome-flutter</td>\n",
              "    </tr>\n",
              "    <tr>\n",
              "      <th>6</th>\n",
              "      <td>tldr-pages</td>\n",
              "      <td>tldr</td>\n",
              "      <td>52400</td>\n",
              "      <td>https://github.com/tldr-pages/tldr</td>\n",
              "    </tr>\n",
              "    <tr>\n",
              "      <th>7</th>\n",
              "      <td>wasabeef</td>\n",
              "      <td>awesome-android-ui</td>\n",
              "      <td>51100</td>\n",
              "      <td>https://github.com/wasabeef/awesome-android-ui</td>\n",
              "    </tr>\n",
              "    <tr>\n",
              "      <th>8</th>\n",
              "      <td>google</td>\n",
              "      <td>material-design-icons</td>\n",
              "      <td>50900</td>\n",
              "      <td>https://github.com/google/material-design-icons</td>\n",
              "    </tr>\n",
              "    <tr>\n",
              "      <th>9</th>\n",
              "      <td>laurent22</td>\n",
              "      <td>joplin</td>\n",
              "      <td>46800</td>\n",
              "      <td>https://github.com/laurent22/joplin</td>\n",
              "    </tr>\n",
              "    <tr>\n",
              "      <th>10</th>\n",
              "      <td>appwrite</td>\n",
              "      <td>appwrite</td>\n",
              "      <td>46200</td>\n",
              "      <td>https://github.com/appwrite/appwrite</td>\n",
              "    </tr>\n",
              "    <tr>\n",
              "      <th>11</th>\n",
              "      <td>square</td>\n",
              "      <td>okhttp</td>\n",
              "      <td>46000</td>\n",
              "      <td>https://github.com/square/okhttp</td>\n",
              "    </tr>\n",
              "    <tr>\n",
              "      <th>12</th>\n",
              "      <td>android</td>\n",
              "      <td>architecture-samples</td>\n",
              "      <td>44600</td>\n",
              "      <td>https://github.com/android/architecture-samples</td>\n",
              "    </tr>\n",
              "    <tr>\n",
              "      <th>13</th>\n",
              "      <td>square</td>\n",
              "      <td>retrofit</td>\n",
              "      <td>43200</td>\n",
              "      <td>https://github.com/square/retrofit</td>\n",
              "    </tr>\n",
              "    <tr>\n",
              "      <th>14</th>\n",
              "      <td>skylot</td>\n",
              "      <td>jadx</td>\n",
              "      <td>42300</td>\n",
              "      <td>https://github.com/skylot/jadx</td>\n",
              "    </tr>\n",
              "    <tr>\n",
              "      <th>15</th>\n",
              "      <td>dcloudio</td>\n",
              "      <td>uni-app</td>\n",
              "      <td>40300</td>\n",
              "      <td>https://github.com/dcloudio/uni-app</td>\n",
              "    </tr>\n",
              "    <tr>\n",
              "      <th>16</th>\n",
              "      <td>fastlane</td>\n",
              "      <td>fastlane</td>\n",
              "      <td>39800</td>\n",
              "      <td>https://github.com/fastlane/fastlane</td>\n",
              "    </tr>\n",
              "    <tr>\n",
              "      <th>17</th>\n",
              "      <td>PhilJay</td>\n",
              "      <td>MPAndroidChart</td>\n",
              "      <td>37700</td>\n",
              "      <td>https://github.com/PhilJay/MPAndroidChart</td>\n",
              "    </tr>\n",
              "    <tr>\n",
              "      <th>18</th>\n",
              "      <td>termux</td>\n",
              "      <td>termux-app</td>\n",
              "      <td>37700</td>\n",
              "      <td>https://github.com/termux/termux-app</td>\n",
              "    </tr>\n",
              "    <tr>\n",
              "      <th>19</th>\n",
              "      <td>2dust</td>\n",
              "      <td>v2rayNG</td>\n",
              "      <td>37400</td>\n",
              "      <td>https://github.com/2dust/v2rayNG</td>\n",
              "    </tr>\n",
              "  </tbody>\n",
              "</table>\n",
              "</div>\n",
              "    <div class=\"colab-df-buttons\">\n",
              "\n",
              "  <div class=\"colab-df-container\">\n",
              "    <button class=\"colab-df-convert\" onclick=\"convertToInteractive('df-978e88ff-2ad4-4a99-bd02-aed342c23a60')\"\n",
              "            title=\"Convert this dataframe to an interactive table.\"\n",
              "            style=\"display:none;\">\n",
              "\n",
              "  <svg xmlns=\"http://www.w3.org/2000/svg\" height=\"24px\" viewBox=\"0 -960 960 960\">\n",
              "    <path d=\"M120-120v-720h720v720H120Zm60-500h600v-160H180v160Zm220 220h160v-160H400v160Zm0 220h160v-160H400v160ZM180-400h160v-160H180v160Zm440 0h160v-160H620v160ZM180-180h160v-160H180v160Zm440 0h160v-160H620v160Z\"/>\n",
              "  </svg>\n",
              "    </button>\n",
              "\n",
              "  <style>\n",
              "    .colab-df-container {\n",
              "      display:flex;\n",
              "      gap: 12px;\n",
              "    }\n",
              "\n",
              "    .colab-df-convert {\n",
              "      background-color: #E8F0FE;\n",
              "      border: none;\n",
              "      border-radius: 50%;\n",
              "      cursor: pointer;\n",
              "      display: none;\n",
              "      fill: #1967D2;\n",
              "      height: 32px;\n",
              "      padding: 0 0 0 0;\n",
              "      width: 32px;\n",
              "    }\n",
              "\n",
              "    .colab-df-convert:hover {\n",
              "      background-color: #E2EBFA;\n",
              "      box-shadow: 0px 1px 2px rgba(60, 64, 67, 0.3), 0px 1px 3px 1px rgba(60, 64, 67, 0.15);\n",
              "      fill: #174EA6;\n",
              "    }\n",
              "\n",
              "    .colab-df-buttons div {\n",
              "      margin-bottom: 4px;\n",
              "    }\n",
              "\n",
              "    [theme=dark] .colab-df-convert {\n",
              "      background-color: #3B4455;\n",
              "      fill: #D2E3FC;\n",
              "    }\n",
              "\n",
              "    [theme=dark] .colab-df-convert:hover {\n",
              "      background-color: #434B5C;\n",
              "      box-shadow: 0px 1px 3px 1px rgba(0, 0, 0, 0.15);\n",
              "      filter: drop-shadow(0px 1px 2px rgba(0, 0, 0, 0.3));\n",
              "      fill: #FFFFFF;\n",
              "    }\n",
              "  </style>\n",
              "\n",
              "    <script>\n",
              "      const buttonEl =\n",
              "        document.querySelector('#df-978e88ff-2ad4-4a99-bd02-aed342c23a60 button.colab-df-convert');\n",
              "      buttonEl.style.display =\n",
              "        google.colab.kernel.accessAllowed ? 'block' : 'none';\n",
              "\n",
              "      async function convertToInteractive(key) {\n",
              "        const element = document.querySelector('#df-978e88ff-2ad4-4a99-bd02-aed342c23a60');\n",
              "        const dataTable =\n",
              "          await google.colab.kernel.invokeFunction('convertToInteractive',\n",
              "                                                    [key], {});\n",
              "        if (!dataTable) return;\n",
              "\n",
              "        const docLinkHtml = 'Like what you see? Visit the ' +\n",
              "          '<a target=\"_blank\" href=https://colab.research.google.com/notebooks/data_table.ipynb>data table notebook</a>'\n",
              "          + ' to learn more about interactive tables.';\n",
              "        element.innerHTML = '';\n",
              "        dataTable['output_type'] = 'display_data';\n",
              "        await google.colab.output.renderOutput(dataTable, element);\n",
              "        const docLink = document.createElement('div');\n",
              "        docLink.innerHTML = docLinkHtml;\n",
              "        element.appendChild(docLink);\n",
              "      }\n",
              "    </script>\n",
              "  </div>\n",
              "\n",
              "\n",
              "<div id=\"df-d572143e-e6a9-4a47-8179-47ca382b6770\">\n",
              "  <button class=\"colab-df-quickchart\" onclick=\"quickchart('df-d572143e-e6a9-4a47-8179-47ca382b6770')\"\n",
              "            title=\"Suggest charts\"\n",
              "            style=\"display:none;\">\n",
              "\n",
              "<svg xmlns=\"http://www.w3.org/2000/svg\" height=\"24px\"viewBox=\"0 0 24 24\"\n",
              "     width=\"24px\">\n",
              "    <g>\n",
              "        <path d=\"M19 3H5c-1.1 0-2 .9-2 2v14c0 1.1.9 2 2 2h14c1.1 0 2-.9 2-2V5c0-1.1-.9-2-2-2zM9 17H7v-7h2v7zm4 0h-2V7h2v10zm4 0h-2v-4h2v4z\"/>\n",
              "    </g>\n",
              "</svg>\n",
              "  </button>\n",
              "\n",
              "<style>\n",
              "  .colab-df-quickchart {\n",
              "      --bg-color: #E8F0FE;\n",
              "      --fill-color: #1967D2;\n",
              "      --hover-bg-color: #E2EBFA;\n",
              "      --hover-fill-color: #174EA6;\n",
              "      --disabled-fill-color: #AAA;\n",
              "      --disabled-bg-color: #DDD;\n",
              "  }\n",
              "\n",
              "  [theme=dark] .colab-df-quickchart {\n",
              "      --bg-color: #3B4455;\n",
              "      --fill-color: #D2E3FC;\n",
              "      --hover-bg-color: #434B5C;\n",
              "      --hover-fill-color: #FFFFFF;\n",
              "      --disabled-bg-color: #3B4455;\n",
              "      --disabled-fill-color: #666;\n",
              "  }\n",
              "\n",
              "  .colab-df-quickchart {\n",
              "    background-color: var(--bg-color);\n",
              "    border: none;\n",
              "    border-radius: 50%;\n",
              "    cursor: pointer;\n",
              "    display: none;\n",
              "    fill: var(--fill-color);\n",
              "    height: 32px;\n",
              "    padding: 0;\n",
              "    width: 32px;\n",
              "  }\n",
              "\n",
              "  .colab-df-quickchart:hover {\n",
              "    background-color: var(--hover-bg-color);\n",
              "    box-shadow: 0 1px 2px rgba(60, 64, 67, 0.3), 0 1px 3px 1px rgba(60, 64, 67, 0.15);\n",
              "    fill: var(--button-hover-fill-color);\n",
              "  }\n",
              "\n",
              "  .colab-df-quickchart-complete:disabled,\n",
              "  .colab-df-quickchart-complete:disabled:hover {\n",
              "    background-color: var(--disabled-bg-color);\n",
              "    fill: var(--disabled-fill-color);\n",
              "    box-shadow: none;\n",
              "  }\n",
              "\n",
              "  .colab-df-spinner {\n",
              "    border: 2px solid var(--fill-color);\n",
              "    border-color: transparent;\n",
              "    border-bottom-color: var(--fill-color);\n",
              "    animation:\n",
              "      spin 1s steps(1) infinite;\n",
              "  }\n",
              "\n",
              "  @keyframes spin {\n",
              "    0% {\n",
              "      border-color: transparent;\n",
              "      border-bottom-color: var(--fill-color);\n",
              "      border-left-color: var(--fill-color);\n",
              "    }\n",
              "    20% {\n",
              "      border-color: transparent;\n",
              "      border-left-color: var(--fill-color);\n",
              "      border-top-color: var(--fill-color);\n",
              "    }\n",
              "    30% {\n",
              "      border-color: transparent;\n",
              "      border-left-color: var(--fill-color);\n",
              "      border-top-color: var(--fill-color);\n",
              "      border-right-color: var(--fill-color);\n",
              "    }\n",
              "    40% {\n",
              "      border-color: transparent;\n",
              "      border-right-color: var(--fill-color);\n",
              "      border-top-color: var(--fill-color);\n",
              "    }\n",
              "    60% {\n",
              "      border-color: transparent;\n",
              "      border-right-color: var(--fill-color);\n",
              "    }\n",
              "    80% {\n",
              "      border-color: transparent;\n",
              "      border-right-color: var(--fill-color);\n",
              "      border-bottom-color: var(--fill-color);\n",
              "    }\n",
              "    90% {\n",
              "      border-color: transparent;\n",
              "      border-bottom-color: var(--fill-color);\n",
              "    }\n",
              "  }\n",
              "</style>\n",
              "\n",
              "  <script>\n",
              "    async function quickchart(key) {\n",
              "      const quickchartButtonEl =\n",
              "        document.querySelector('#' + key + ' button');\n",
              "      quickchartButtonEl.disabled = true;  // To prevent multiple clicks.\n",
              "      quickchartButtonEl.classList.add('colab-df-spinner');\n",
              "      try {\n",
              "        const charts = await google.colab.kernel.invokeFunction(\n",
              "            'suggestCharts', [key], {});\n",
              "      } catch (error) {\n",
              "        console.error('Error during call to suggestCharts:', error);\n",
              "      }\n",
              "      quickchartButtonEl.classList.remove('colab-df-spinner');\n",
              "      quickchartButtonEl.classList.add('colab-df-quickchart-complete');\n",
              "    }\n",
              "    (() => {\n",
              "      let quickchartButtonEl =\n",
              "        document.querySelector('#df-d572143e-e6a9-4a47-8179-47ca382b6770 button');\n",
              "      quickchartButtonEl.style.display =\n",
              "        google.colab.kernel.accessAllowed ? 'block' : 'none';\n",
              "    })();\n",
              "  </script>\n",
              "</div>\n",
              "\n",
              "    </div>\n",
              "  </div>\n"
            ],
            "application/vnd.google.colaboratory.intrinsic+json": {
              "type": "dataframe",
              "summary": "{\n  \"name\": \"pd\",\n  \"rows\": 20,\n  \"fields\": [\n    {\n      \"column\": \"username\",\n      \"properties\": {\n        \"dtype\": \"string\",\n        \"num_unique_values\": 19,\n        \"samples\": [\n          \"flutter\",\n          \"Solido\",\n          \"square\"\n        ],\n        \"semantic_type\": \"\",\n        \"description\": \"\"\n      }\n    },\n    {\n      \"column\": \"repo_name\",\n      \"properties\": {\n        \"dtype\": \"string\",\n        \"num_unique_values\": 20,\n        \"samples\": [\n          \"flutter\",\n          \"MPAndroidChart\",\n          \"uni-app\"\n        ],\n        \"semantic_type\": \"\",\n        \"description\": \"\"\n      }\n    },\n    {\n      \"column\": \"stars\",\n      \"properties\": {\n        \"dtype\": \"number\",\n        \"std\": 36424,\n        \"min\": 37400,\n        \"max\": 167000,\n        \"num_unique_values\": 19,\n        \"samples\": [\n          167000,\n          54200,\n          46000\n        ],\n        \"semantic_type\": \"\",\n        \"description\": \"\"\n      }\n    },\n    {\n      \"column\": \"repo_url\",\n      \"properties\": {\n        \"dtype\": \"string\",\n        \"num_unique_values\": 20,\n        \"samples\": [\n          \"https://github.com/flutter/flutter\",\n          \"https://github.com/PhilJay/MPAndroidChart\",\n          \"https://github.com/dcloudio/uni-app\"\n        ],\n        \"semantic_type\": \"\",\n        \"description\": \"\"\n      }\n    }\n  ]\n}"
            }
          },
          "metadata": {},
          "execution_count": 127
        }
      ]
    },
    {
      "cell_type": "markdown",
      "source": [
        "End"
      ],
      "metadata": {
        "id": "n_AjzrxH-309"
      }
    }
  ]
}